{
 "cells": [
  {
   "cell_type": "code",
   "execution_count": 72,
   "metadata": {},
   "outputs": [
    {
     "name": "stdout",
     "output_type": "stream",
     "text": [
      "Character ID at end of marker - 1543\n",
      "Number of characters processed before marker found - 1544\n"
     ]
    }
   ],
   "source": [
    "# PART 1\n",
    "\n",
    "file = \"input.txt\"\n",
    "\n",
    "with open(file) as f:\n",
    "    datastream_raw =f.read()\n",
    "\n",
    "datastream = datastream_raw[:-1:1] # Delete last char \"\\n\"\n",
    "\n",
    "# datastream = \"mjqjpqmgbljsphdztnvjfqwrcgsmlb\" # Test string\n",
    "    \n",
    "for i, char in enumerate(datastream):\n",
    "    \n",
    "    if i < 3:\n",
    "        continue\n",
    "    \n",
    "    marker = datastream[i-3:i+1]\n",
    "    marker_set = set(marker)\n",
    "    \n",
    "    if len(marker_set) == len(marker):\n",
    "        print(\"Character ID at end of marker -\", i)\n",
    "        print(\"Number of characters processed before marker found -\", i+1)\n",
    "        break\n",
    "    \n"
   ]
  },
  {
   "cell_type": "code",
   "execution_count": 73,
   "metadata": {},
   "outputs": [
    {
     "name": "stdout",
     "output_type": "stream",
     "text": [
      "Character ID at end of marker - 2144\n",
      "Number of characters processed before marker found - 2145\n"
     ]
    }
   ],
   "source": [
    "# PART 2\n",
    "\n",
    "for i, char in enumerate(datastream):\n",
    "    \n",
    "    if i < 13:\n",
    "        continue\n",
    "    \n",
    "    marker = datastream[i-13:i+1]\n",
    "    marker_set = set(marker)\n",
    "    \n",
    "    if len(marker_set) == len(marker):\n",
    "        print(\"Character ID at end of marker -\", i)\n",
    "        print(\"Number of characters processed before marker found -\", i+1)\n",
    "        break"
   ]
  }
 ],
 "metadata": {
  "kernelspec": {
   "display_name": "base",
   "language": "python",
   "name": "python3"
  },
  "language_info": {
   "codemirror_mode": {
    "name": "ipython",
    "version": 3
   },
   "file_extension": ".py",
   "mimetype": "text/x-python",
   "name": "python",
   "nbconvert_exporter": "python",
   "pygments_lexer": "ipython3",
   "version": "3.9.12"
  },
  "orig_nbformat": 4,
  "vscode": {
   "interpreter": {
    "hash": "e5ca62f41d8c7200594beafd4c34d6e3042e79544acfdd106de724db2b89ec62"
   }
  }
 },
 "nbformat": 4,
 "nbformat_minor": 2
}
