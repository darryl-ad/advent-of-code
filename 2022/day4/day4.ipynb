{
 "cells": [
  {
   "cell_type": "code",
   "execution_count": 27,
   "metadata": {},
   "outputs": [
    {
     "name": "stdout",
     "output_type": "stream",
     "text": [
      "Part 1 count = 507\n",
      "Part 2 count = 897\n"
     ]
    }
   ],
   "source": [
    "file = \"input.txt\"\n",
    "\n",
    "with open(file) as f:\n",
    "    listStrings=f.read().split(\"\\n\")\n",
    "\n",
    "del listStrings[-1] # blank line at end\n",
    "\n",
    "count1 = 0\n",
    "count2 = 0\n",
    "\n",
    "for string in listStrings:\n",
    "    # Separate each elf's IDs\n",
    "    elf1, elf2 = string.split(\",\")\n",
    "    \n",
    "    # For each pair of elves, create a set of all IDs they are assigned\n",
    "    elf1 = elf1.split(\"-\")                      # Split by hyhen\n",
    "    elf1 = [int(x) for x in elf1]               # Convert strings in list to integers\n",
    "    elf1_set = set(range(elf1[0], elf1[1] + 1)) # Create a set of all numbers in range\n",
    "    \n",
    "    elf2 = elf2.split(\"-\")\n",
    "    elf2 = [int(x) for x in elf2]\n",
    "    elf2_set = set(range(elf2[0], elf2[1] + 1))\n",
    "    \n",
    "    # PART 1\n",
    "    # Check if any set is a subset of the other\n",
    "    if elf1_set.issubset(elf2_set) or elf2_set.issubset(elf1_set):\n",
    "        count1 += 1\n",
    "        \n",
    "    # PART 2\n",
    "    # Check if any elements in each set are common\n",
    "    if len(elf1_set.intersection(elf2_set)) != 0: # If there are no common elements, the intersection will be length 0\n",
    "        count2 += 1\n",
    "\n",
    "print(\"Part 1 count =\", count1)\n",
    "print(\"Part 2 count =\", count2)\n",
    "    \n"
   ]
  }
 ],
 "metadata": {
  "kernelspec": {
   "display_name": "Python 3.9.12 ('base')",
   "language": "python",
   "name": "python3"
  },
  "language_info": {
   "codemirror_mode": {
    "name": "ipython",
    "version": 3
   },
   "file_extension": ".py",
   "mimetype": "text/x-python",
   "name": "python",
   "nbconvert_exporter": "python",
   "pygments_lexer": "ipython3",
   "version": "3.9.12"
  },
  "orig_nbformat": 4,
  "vscode": {
   "interpreter": {
    "hash": "e5ca62f41d8c7200594beafd4c34d6e3042e79544acfdd106de724db2b89ec62"
   }
  }
 },
 "nbformat": 4,
 "nbformat_minor": 2
}
