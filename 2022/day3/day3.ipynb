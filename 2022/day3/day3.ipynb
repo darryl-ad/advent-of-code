{
 "cells": [
  {
   "cell_type": "code",
   "execution_count": 62,
   "metadata": {},
   "outputs": [
    {
     "name": "stdout",
     "output_type": "stream",
     "text": [
      "7793\n"
     ]
    }
   ],
   "source": [
    "# Part 1\n",
    "\n",
    "file = \"input.txt\"\n",
    "\n",
    "with open(file) as f:\n",
    "    listStrings=f.read().split(\"\\n\")\n",
    "\n",
    "del listStrings[-1] # blank line at end\n",
    "\n",
    "# Define characters and priorities lists\n",
    "import string\n",
    "lower = string.ascii_lowercase\n",
    "upper = string.ascii_uppercase\n",
    "characterList = list(lower + upper)\n",
    "priorityList = list(range(1,len(characterList)+1))\n",
    "\n",
    "# Convert to list to act as lookup\n",
    "lookup = dict(zip(characterList, priorityList))\n",
    "\n",
    "# Preallocate output list\n",
    "priorities = [0]*len(listStrings)\n",
    "\n",
    "for row, itemString in enumerate(listStrings):\n",
    "    \n",
    "    length = int(len(itemString)/2)\n",
    "\n",
    "    # Split the string in 2\n",
    "    string1 = itemString[:length]\n",
    "    string2 = itemString[length:]\n",
    "\n",
    "    # Convert to sets\n",
    "    set1 = set(string1)\n",
    "    set2 = set(string2)\n",
    "\n",
    "    # Find common element and convert back to string\n",
    "    common = set1 & set2\n",
    "    iterator = iter(common)\n",
    "    common = next(iterator)\n",
    "\n",
    "    # Lookup for priority\n",
    "    priorities[row] = lookup[common]\n",
    "\n",
    "print(sum(priorities))"
   ]
  },
  {
   "cell_type": "code",
   "execution_count": 63,
   "metadata": {},
   "outputs": [
    {
     "name": "stdout",
     "output_type": "stream",
     "text": [
      "2499\n"
     ]
    }
   ],
   "source": [
    "#Part 2\n",
    "\n",
    "row=0\n",
    "\n",
    "# Easier to append list here than preallocate size\n",
    "prioritiesB = []\n",
    "\n",
    "for itemString in listStrings[::3]:\n",
    "\n",
    "    string1B = itemString\n",
    "    string2B = listStrings[row+1]\n",
    "    string3B = listStrings[row+2]\n",
    "\n",
    "    set1B = set(string1B)\n",
    "    set2B = set(string2B)\n",
    "    set3B = set(string3B)\n",
    "\n",
    "    commonB = (set1B & set2B & set3B)\n",
    "    iteratorB = iter(commonB)\n",
    "    commonB = next(iteratorB)\n",
    "\n",
    "    prioritiesB.append(lookup[commonB])\n",
    "\n",
    "    row += 3\n",
    "\n",
    "print(sum(prioritiesB))\n",
    "\n",
    "    "
   ]
  }
 ],
 "metadata": {
  "kernelspec": {
   "display_name": "Python 3.9.12 ('base')",
   "language": "python",
   "name": "python3"
  },
  "language_info": {
   "codemirror_mode": {
    "name": "ipython",
    "version": 3
   },
   "file_extension": ".py",
   "mimetype": "text/x-python",
   "name": "python",
   "nbconvert_exporter": "python",
   "pygments_lexer": "ipython3",
   "version": "3.9.12"
  },
  "orig_nbformat": 4,
  "vscode": {
   "interpreter": {
    "hash": "e5ca62f41d8c7200594beafd4c34d6e3042e79544acfdd106de724db2b89ec62"
   }
  }
 },
 "nbformat": 4,
 "nbformat_minor": 2
}
