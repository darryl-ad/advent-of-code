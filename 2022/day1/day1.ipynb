{
 "cells": [
  {
   "cell_type": "code",
   "execution_count": 5,
   "metadata": {},
   "outputs": [
    {
     "name": "stdout",
     "output_type": "stream",
     "text": [
      "max calories =  66306.0\n"
     ]
    }
   ],
   "source": [
    "# Part 1\n",
    "\n",
    "file = \"day1_1_input.txt\"\n",
    "\n",
    "with open(file) as f:\n",
    "    #lines = f.readlines()\n",
    "    listStrings=f.read().split(\"\\n\\n\")\n",
    "\n",
    "outList = [0]*len(listStrings)\n",
    "\n",
    "for count, string in enumerate(listStrings):\n",
    "    newString = string.split()\n",
    "\n",
    "    for calorie in newString:\n",
    "        outList[count] = outList[count] + float(calorie)\n",
    "\n",
    "print(\"max calories = \", max(outList))\n"
   ]
  },
  {
   "cell_type": "code",
   "execution_count": 6,
   "metadata": {},
   "outputs": [
    {
     "name": "stdout",
     "output_type": "stream",
     "text": [
      "Total calories of top 3 elves =  195292.0\n"
     ]
    }
   ],
   "source": [
    "# Part 2\n",
    "\n",
    "outList.sort(reverse=True)\n",
    "\n",
    "print(\"Total calories of top 3 elves = \", sum(outList[0:3]))"
   ]
  }
 ],
 "metadata": {
  "kernelspec": {
   "display_name": "Python 3.9.12 ('base')",
   "language": "python",
   "name": "python3"
  },
  "language_info": {
   "codemirror_mode": {
    "name": "ipython",
    "version": 3
   },
   "file_extension": ".py",
   "mimetype": "text/x-python",
   "name": "python",
   "nbconvert_exporter": "python",
   "pygments_lexer": "ipython3",
   "version": "3.9.12"
  },
  "orig_nbformat": 4,
  "vscode": {
   "interpreter": {
    "hash": "e5ca62f41d8c7200594beafd4c34d6e3042e79544acfdd106de724db2b89ec62"
   }
  }
 },
 "nbformat": 4,
 "nbformat_minor": 2
}
