{
 "cells": [
  {
   "cell_type": "code",
   "execution_count": 3,
   "metadata": {},
   "outputs": [],
   "source": [
    "# A - X Rock       = 1\n",
    "# B - Y Paper      = 2\n",
    "# C - Z Scissors   = 3\n",
    "\n",
    "# 0, 3, 6 = lose, draw, win"
   ]
  },
  {
   "cell_type": "code",
   "execution_count": 4,
   "metadata": {},
   "outputs": [
    {
     "name": "stdout",
     "output_type": "stream",
     "text": [
      "Total score = 15691\n"
     ]
    }
   ],
   "source": [
    "# Part 1\n",
    "\n",
    "file = \"input.txt\"\n",
    "\n",
    "with open(file) as f:\n",
    "    listStrings=f.read().split(\"\\n\")\n",
    "\n",
    "# Replace letters with numbers\n",
    "listStrings = [letters.replace('A', '1').replace('B', '2').replace('C', '3') for letters in listStrings]\n",
    "listStrings = [letters.replace('X', '1').replace('Y', '2').replace('Z', '3') for letters in listStrings]\n",
    "\n",
    "scores = [0]*len(listStrings)\n",
    "\n",
    "# Coulmns of player 1 and 2\n",
    "col1 = 0\n",
    "col2 = 2\n",
    "\n",
    "for row, numbers in enumerate(listStrings):\n",
    "\n",
    "    # Ignore empty rows\n",
    "    if listStrings[row]:\n",
    "        number1 = int(listStrings[row][col1])\n",
    "        number2 = int(listStrings[row][col2])\n",
    "        \n",
    "        scores[row] = number2\n",
    "\n",
    "        if ((number2 > number1) and not (number2==3 and number1==1)) or (number1==3 and number2==1):\n",
    "            scores[row] = scores[row] + 6\n",
    "        elif number2 == number1:\n",
    "            scores[row] = scores[row] + 3\n",
    "\n",
    "\n",
    "print(\"Total score =\", sum(scores))"
   ]
  },
  {
   "cell_type": "code",
   "execution_count": 5,
   "metadata": {},
   "outputs": [
    {
     "ename": "SyntaxError",
     "evalue": "invalid syntax (500056090.py, line 2)",
     "output_type": "error",
     "traceback": [
      "\u001b[1;36m  Input \u001b[1;32mIn [5]\u001b[1;36m\u001b[0m\n\u001b[1;33m    wins = [1,2;2,3;3,1]\u001b[0m\n\u001b[1;37m               ^\u001b[0m\n\u001b[1;31mSyntaxError\u001b[0m\u001b[1;31m:\u001b[0m invalid syntax\n"
     ]
    }
   ],
   "source": [
    "# Part 2\n",
    "wins = [1,2;2,3;3,1]?\n",
    "\n",
    "for row, numbers in enumerate(listStrings):\n",
    "\n",
    "    \n",
    "    if listStrings[row]:\n",
    "\n",
    "        if listStrings[row][col2]\n",
    "\n",
    "        number1 = int(listStrings[row][col1])\n",
    "        number2 = int(listStrings[row][col2])\n",
    "        \n",
    "        scores[row] = number2\n",
    "\n",
    "        if ((number2 > number1) and not (number2==3 and number1==1)) or (number1==3 and number2==1):\n",
    "            scores[row] = scores[row] + 6\n",
    "        elif number2 == number1:\n",
    "            scores[row] = scores[row] + 3\n",
    "\n",
    "\n",
    "print(\"Total score =\", sum(scores))"
   ]
  }
 ],
 "metadata": {
  "kernelspec": {
   "display_name": "Python 3.9.12 ('base')",
   "language": "python",
   "name": "python3"
  },
  "language_info": {
   "codemirror_mode": {
    "name": "ipython",
    "version": 3
   },
   "file_extension": ".py",
   "mimetype": "text/x-python",
   "name": "python",
   "nbconvert_exporter": "python",
   "pygments_lexer": "ipython3",
   "version": "3.9.12"
  },
  "orig_nbformat": 4,
  "vscode": {
   "interpreter": {
    "hash": "e5ca62f41d8c7200594beafd4c34d6e3042e79544acfdd106de724db2b89ec62"
   }
  }
 },
 "nbformat": 4,
 "nbformat_minor": 2
}
